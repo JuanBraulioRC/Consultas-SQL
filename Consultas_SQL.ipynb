{
  "nbformat": 4,
  "nbformat_minor": 0,
  "metadata": {
    "kernelspec": {
      "display_name": "Python 3",
      "language": "python",
      "name": "python3"
    },
    "language_info": {
      "codemirror_mode": {
        "name": "ipython",
        "version": 3
      },
      "file_extension": ".py",
      "mimetype": "text/x-python",
      "name": "python",
      "nbconvert_exporter": "python",
      "pygments_lexer": "ipython3",
      "version": "3.7.7"
    },
    "colab": {
      "name": "Consultas_SQL.ipynb",
      "provenance": [],
      "include_colab_link": true
    }
  },
  "cells": [
    {
      "cell_type": "markdown",
      "metadata": {
        "id": "view-in-github",
        "colab_type": "text"
      },
      "source": [
        "<a href=\"https://colab.research.google.com/github/JuanBraulioRC/Consultas-SQL/blob/main/Consultas_SQL.ipynb\" target=\"_parent\"><img src=\"https://colab.research.google.com/assets/colab-badge.svg\" alt=\"Open In Colab\"/></a>"
      ]
    },
    {
      "cell_type": "markdown",
      "metadata": {
        "id": "Q5mlvqz5tLFA"
      },
      "source": [
        "# Consultas SQL\n",
        "---------------------\n",
        "Abordemos las consultas SQL con un caso práctico.\n",
        "Consideremos la tienda de venta de productos para mascotas **Love4Pets**, la cual ha creado una base de datos SQL con el fin de llevar un control de sus empleados, ventas y suministro de productos."
      ]
    },
    {
      "cell_type": "code",
      "metadata": {
        "scrolled": true,
        "colab": {
          "base_uri": "https://localhost:8080/",
          "height": 35
        },
        "id": "iTRCn49itLFK",
        "outputId": "2982fc20-8729-431a-861f-58ebf429a2ba"
      },
      "source": [
        "%load_ext sql\n",
        "%sql sqlite:///love4pets.db"
      ],
      "execution_count": null,
      "outputs": [
        {
          "output_type": "execute_result",
          "data": {
            "application/vnd.google.colaboratory.intrinsic+json": {
              "type": "string"
            },
            "text/plain": [
              "'Connected: @love4pets.db'"
            ]
          },
          "metadata": {},
          "execution_count": 1
        }
      ]
    },
    {
      "cell_type": "markdown",
      "metadata": {
        "id": "VXCQrFJ0tLFO"
      },
      "source": [
        "La base de datos **love4pets.db** contiene diferentes tablas, cada una almacena información relativa a un aspecto de la empresa, agrupando esta información en forma de campos.\n",
        "\n",
        "Por ejemplo **love4pets.db** tiene una tabla **departamento** que está formada por el código del departamento y el nombre que este departamento posee en la empresa. Podemos ver estos campos a continuación:"
      ]
    },
    {
      "cell_type": "code",
      "metadata": {
        "scrolled": true,
        "colab": {
          "base_uri": "https://localhost:8080/"
        },
        "id": "U0Wx52TEtLFP",
        "outputId": "32caea65-5e96-4716-87b1-6f7d49a23c3e"
      },
      "source": [
        "%sql select * from departamento;"
      ],
      "execution_count": null,
      "outputs": [
        {
          "output_type": "stream",
          "name": "stderr",
          "text": [
            "UsageError: Line magic function `%sql` not found.\n"
          ]
        }
      ]
    },
    {
      "cell_type": "markdown",
      "metadata": {
        "id": "96hvwLxQtLFQ"
      },
      "source": [
        "Otras tablas existentes en **love4pets.db** son:  \n",
        "* Empleado\n",
        "* Cliente\n",
        "* Mascota\n",
        "* Producto\n",
        "* Orden o Factura\n",
        "* Detalle_orden\n",
        "* Proveedor\n",
        "* Suministro"
      ]
    },
    {
      "cell_type": "markdown",
      "metadata": {
        "id": "dKHpw8tttLFR"
      },
      "source": [
        "Consultas básicas de selección\n",
        "--------\n",
        "La sintaxis básica de una consulta de selección es la siguiente:\n",
        "\n",
        "```sql\n",
        "select Campo FROM Tabla;\n",
        "```\n",
        "Pero para hacer esa consulta debemos conocer el nombre del campo que queremos consultar. Podemos mostrar el \"schema\" o diseño de la tabla con la instrucción **PRAGMA table_info(Tabla);** "
      ]
    },
    {
      "cell_type": "code",
      "metadata": {
        "scrolled": true,
        "colab": {
          "base_uri": "https://localhost:8080/"
        },
        "id": "uN2Ml8L6tLFS",
        "outputId": "54cbcdb1-12f6-43e3-8961-1e17953e5ba9"
      },
      "source": [
        "%sql PRAGMA table_info(empleado);"
      ],
      "execution_count": null,
      "outputs": [
        {
          "output_type": "stream",
          "name": "stderr",
          "text": [
            "UsageError: Line magic function `%sql` not found.\n"
          ]
        }
      ]
    },
    {
      "cell_type": "markdown",
      "metadata": {
        "id": "2NfrvoDRtLFT"
      },
      "source": [
        "Podemos observar que la Tabla **empleado** contiene los campos:\n",
        "* empleado_id\n",
        "* nombre\n",
        "* email\n",
        "* telefono\n",
        "* salario\n",
        "* fecha_ingreso\n",
        "* departamento_id\n",
        "\n",
        "Veamos ahora un ejemplo de selección a alguno de estos campos:"
      ]
    },
    {
      "cell_type": "code",
      "metadata": {
        "colab": {
          "base_uri": "https://localhost:8080/"
        },
        "id": "W0m3Tbs2tLFV",
        "outputId": "cbbde625-d4bd-44cd-a25c-201dbd93aec3"
      },
      "source": [
        "%sql select nombre FROM empleado;"
      ],
      "execution_count": null,
      "outputs": [
        {
          "output_type": "stream",
          "name": "stderr",
          "text": [
            "UsageError: Line magic function `%sql` not found.\n"
          ]
        }
      ]
    },
    {
      "cell_type": "markdown",
      "metadata": {
        "id": "6jg8Pl4XtLFW"
      },
      "source": [
        "Podemos agregar mas campos a mostrar en una misma consulta al separar los campos por comas(,) por ejemplo:"
      ]
    },
    {
      "cell_type": "code",
      "metadata": {
        "scrolled": true,
        "colab": {
          "base_uri": "https://localhost:8080/"
        },
        "id": "2XM9-8nftLFX",
        "outputId": "d26415a2-3b9f-49b3-eee5-8af41ec8c550"
      },
      "source": [
        "%sql select nombre, telefono FROM empleado;"
      ],
      "execution_count": null,
      "outputs": [
        {
          "output_type": "stream",
          "name": "stderr",
          "text": [
            "UsageError: Line magic function `%sql` not found.\n"
          ]
        }
      ]
    },
    {
      "cell_type": "markdown",
      "metadata": {
        "id": "3mByT3OxtLFY"
      },
      "source": [
        "Tambien es posible solicitar todos los campos de una tabla con el signo asterisco(*):"
      ]
    },
    {
      "cell_type": "code",
      "metadata": {
        "colab": {
          "base_uri": "https://localhost:8080/"
        },
        "id": "UzWS1GNytLFY",
        "outputId": "d921a17a-c6b8-41b7-bc7e-d728882453be"
      },
      "source": [
        "%sql select * FROM empleado;"
      ],
      "execution_count": null,
      "outputs": [
        {
          "output_type": "stream",
          "name": "stderr",
          "text": [
            "UsageError: Line magic function `%sql` not found.\n"
          ]
        }
      ]
    },
    {
      "cell_type": "markdown",
      "metadata": {
        "id": "iPiw0En0tLFZ"
      },
      "source": [
        "<div style=\"background-color: #81F781\">\n",
        " <h1> Ejercicio 1. </h1><br>\n",
        "    Complete el siguiente código para obtener un listado de los nombres, telefonos y ciudad de todos los clientes.\n",
        " <br><br>\n",
        "</div>"
      ]
    },
    {
      "cell_type": "code",
      "metadata": {
        "colab": {
          "base_uri": "https://localhost:8080/"
        },
        "id": "SRrb2fsitLFa",
        "outputId": "2ece8797-12d2-47c9-a4e5-6d88ea21c106"
      },
      "source": [
        "%sql select nombre, telefono, ciudad from cliente;"
      ],
      "execution_count": null,
      "outputs": [
        {
          "output_type": "stream",
          "name": "stderr",
          "text": [
            "UsageError: Line magic function `%sql` not found.\n"
          ]
        }
      ]
    },
    {
      "cell_type": "markdown",
      "metadata": {
        "id": "O20ERKXrtLFa"
      },
      "source": [
        "### Ordenar los registros, ORDER BY\n",
        "--------\n",
        "Es posible especificar el orden en que queremos que se muestre resultado de una consulta, esto se consigue con la clausula **ORDER BY** \n",
        "```sql\n",
        "select campo1,campo2,...,campoN FROM Tabla ORDER BY campoX;\n",
        "```\n",
        "Veamos un ejemplo sobre la tabla empleado:\n",
        "\n",
        "**Liste los empleados de Love4Pets ordenados por su salario**"
      ]
    },
    {
      "cell_type": "code",
      "metadata": {
        "colab": {
          "base_uri": "https://localhost:8080/"
        },
        "id": "EeRSZouEtLFb",
        "outputId": "45df08ec-0c1f-4a17-8507-da0120be7120"
      },
      "source": [
        "%sql select nombre, salario FROM empleado ORDER BY salario;"
      ],
      "execution_count": null,
      "outputs": [
        {
          "output_type": "stream",
          "name": "stderr",
          "text": [
            "UsageError: Line magic function `%sql` not found.\n"
          ]
        }
      ]
    },
    {
      "cell_type": "markdown",
      "metadata": {
        "id": "UxVqdW7ytLFb"
      },
      "source": [
        "Se puede ordenar el resultado por mas de un campo, por ejemplo podemos ordenar los empleados segun su sueldo usando el campo **salario** y además en orden alfabetico por el campo **nombre**"
      ]
    },
    {
      "cell_type": "code",
      "metadata": {
        "colab": {
          "base_uri": "https://localhost:8080/",
          "height": 331
        },
        "id": "nidXZD7ktLFc",
        "outputId": "f2d9f3eb-3a06-4bf7-c0c9-1a055615721a"
      },
      "source": [
        "%sql select nombre, salario FROM empleado ORDER BY salario, nombre;"
      ],
      "execution_count": null,
      "outputs": [
        {
          "output_type": "stream",
          "name": "stdout",
          "text": [
            " * sqlite:///love4pets.db\n",
            "Done.\n"
          ]
        },
        {
          "output_type": "execute_result",
          "data": {
            "text/html": [
              "<table>\n",
              "    <thead>\n",
              "        <tr>\n",
              "            <th>nombre</th>\n",
              "            <th>salario</th>\n",
              "        </tr>\n",
              "    </thead>\n",
              "    <tbody>\n",
              "        <tr>\n",
              "            <td>Sergio Reyes Gallardo</td>\n",
              "            <td>1000</td>\n",
              "        </tr>\n",
              "        <tr>\n",
              "            <td>Nil Soler Diez</td>\n",
              "            <td>1100</td>\n",
              "        </tr>\n",
              "        <tr>\n",
              "            <td>Lucas Serrano Caballero</td>\n",
              "            <td>1200</td>\n",
              "        </tr>\n",
              "        <tr>\n",
              "            <td>Pablo Pons Sanz</td>\n",
              "            <td>1350</td>\n",
              "        </tr>\n",
              "        <tr>\n",
              "            <td>Guillermo Vidal Gomez</td>\n",
              "            <td>1400</td>\n",
              "        </tr>\n",
              "        <tr>\n",
              "            <td>Andres Riera Herrera</td>\n",
              "            <td>1500</td>\n",
              "        </tr>\n",
              "        <tr>\n",
              "            <td>Daniel Quintero Quintero</td>\n",
              "            <td>1500</td>\n",
              "        </tr>\n",
              "        <tr>\n",
              "            <td>Juan Manuel Olivares</td>\n",
              "            <td>1500</td>\n",
              "        </tr>\n",
              "        <tr>\n",
              "            <td>Isaac Jimenez Ortiz</td>\n",
              "            <td>1600</td>\n",
              "        </tr>\n",
              "        <tr>\n",
              "            <td>Saul Moreno Santos</td>\n",
              "            <td>1600</td>\n",
              "        </tr>\n",
              "        <tr>\n",
              "            <td>Alejandro Fernandez</td>\n",
              "            <td>1850</td>\n",
              "        </tr>\n",
              "        <tr>\n",
              "            <td>Miguel Soto</td>\n",
              "            <td>1900</td>\n",
              "        </tr>\n",
              "    </tbody>\n",
              "</table>"
            ],
            "text/plain": [
              "[('Sergio Reyes Gallardo', 1000),\n",
              " ('Nil Soler Diez', 1100),\n",
              " ('Lucas Serrano Caballero', 1200),\n",
              " ('Pablo Pons Sanz', 1350),\n",
              " ('Guillermo Vidal Gomez', 1400),\n",
              " ('Andres Riera Herrera', 1500),\n",
              " ('Daniel Quintero Quintero', 1500),\n",
              " ('Juan Manuel Olivares', 1500),\n",
              " ('Isaac Jimenez Ortiz', 1600),\n",
              " ('Saul Moreno Santos', 1600),\n",
              " ('Alejandro Fernandez', 1850),\n",
              " ('Miguel Soto', 1900)]"
            ]
          },
          "metadata": {},
          "execution_count": 9
        }
      ]
    },
    {
      "cell_type": "markdown",
      "metadata": {
        "id": "WLpLbCWqtLFc"
      },
      "source": [
        "Además puede usarse el ordenar por campos de forma independiente, de forma ASCENDENTE mediante la clausula **ASC** y DESCENDENTE mediante la clausula **DESC**"
      ]
    },
    {
      "cell_type": "code",
      "metadata": {
        "colab": {
          "base_uri": "https://localhost:8080/",
          "height": 331
        },
        "id": "YAtGJh38tLFd",
        "outputId": "b8aee34a-ad8a-473b-bab1-fb06c2bc997c"
      },
      "source": [
        "%sql select nombre, salario FROM empleado ORDER BY salario DESC, nombre ASC;"
      ],
      "execution_count": null,
      "outputs": [
        {
          "output_type": "stream",
          "name": "stdout",
          "text": [
            " * sqlite:///love4pets.db\n",
            "Done.\n"
          ]
        },
        {
          "output_type": "execute_result",
          "data": {
            "text/html": [
              "<table>\n",
              "    <thead>\n",
              "        <tr>\n",
              "            <th>nombre</th>\n",
              "            <th>salario</th>\n",
              "        </tr>\n",
              "    </thead>\n",
              "    <tbody>\n",
              "        <tr>\n",
              "            <td>Miguel Soto</td>\n",
              "            <td>1900</td>\n",
              "        </tr>\n",
              "        <tr>\n",
              "            <td>Alejandro Fernandez</td>\n",
              "            <td>1850</td>\n",
              "        </tr>\n",
              "        <tr>\n",
              "            <td>Isaac Jimenez Ortiz</td>\n",
              "            <td>1600</td>\n",
              "        </tr>\n",
              "        <tr>\n",
              "            <td>Saul Moreno Santos</td>\n",
              "            <td>1600</td>\n",
              "        </tr>\n",
              "        <tr>\n",
              "            <td>Andres Riera Herrera</td>\n",
              "            <td>1500</td>\n",
              "        </tr>\n",
              "        <tr>\n",
              "            <td>Daniel Quintero Quintero</td>\n",
              "            <td>1500</td>\n",
              "        </tr>\n",
              "        <tr>\n",
              "            <td>Juan Manuel Olivares</td>\n",
              "            <td>1500</td>\n",
              "        </tr>\n",
              "        <tr>\n",
              "            <td>Guillermo Vidal Gomez</td>\n",
              "            <td>1400</td>\n",
              "        </tr>\n",
              "        <tr>\n",
              "            <td>Pablo Pons Sanz</td>\n",
              "            <td>1350</td>\n",
              "        </tr>\n",
              "        <tr>\n",
              "            <td>Lucas Serrano Caballero</td>\n",
              "            <td>1200</td>\n",
              "        </tr>\n",
              "        <tr>\n",
              "            <td>Nil Soler Diez</td>\n",
              "            <td>1100</td>\n",
              "        </tr>\n",
              "        <tr>\n",
              "            <td>Sergio Reyes Gallardo</td>\n",
              "            <td>1000</td>\n",
              "        </tr>\n",
              "    </tbody>\n",
              "</table>"
            ],
            "text/plain": [
              "[('Miguel Soto', 1900),\n",
              " ('Alejandro Fernandez', 1850),\n",
              " ('Isaac Jimenez Ortiz', 1600),\n",
              " ('Saul Moreno Santos', 1600),\n",
              " ('Andres Riera Herrera', 1500),\n",
              " ('Daniel Quintero Quintero', 1500),\n",
              " ('Juan Manuel Olivares', 1500),\n",
              " ('Guillermo Vidal Gomez', 1400),\n",
              " ('Pablo Pons Sanz', 1350),\n",
              " ('Lucas Serrano Caballero', 1200),\n",
              " ('Nil Soler Diez', 1100),\n",
              " ('Sergio Reyes Gallardo', 1000)]"
            ]
          },
          "metadata": {},
          "execution_count": 10
        }
      ]
    },
    {
      "cell_type": "markdown",
      "metadata": {
        "id": "O1FYrpgutLFe"
      },
      "source": [
        "La instrucción  **Limit** reduce la cantidad de filas de salida en el resultado al número indicado.\n",
        "Cuando usamos la instrucción LIMIT junto con el ORDER BY estamos tomando alguno de los extremos de la consulta, por ejemplo los 3 sueldos mas altos, o los 5 sueldos mas bajos.\n",
        "\n",
        "Veamos un par de ejemplos de esto:"
      ]
    },
    {
      "cell_type": "code",
      "metadata": {
        "colab": {
          "base_uri": "https://localhost:8080/",
          "height": 139
        },
        "id": "f3d-GdFStLFe",
        "outputId": "2059d794-0182-4ffa-f8b1-4cb81c3c6fba"
      },
      "source": [
        "%sql select nombre,salario FROM empleado ORDER BY salario DESC LIMIT 3;"
      ],
      "execution_count": null,
      "outputs": [
        {
          "output_type": "stream",
          "name": "stdout",
          "text": [
            " * sqlite:///love4pets.db\n",
            "Done.\n"
          ]
        },
        {
          "output_type": "execute_result",
          "data": {
            "text/html": [
              "<table>\n",
              "    <thead>\n",
              "        <tr>\n",
              "            <th>nombre</th>\n",
              "            <th>salario</th>\n",
              "        </tr>\n",
              "    </thead>\n",
              "    <tbody>\n",
              "        <tr>\n",
              "            <td>Miguel Soto</td>\n",
              "            <td>1900</td>\n",
              "        </tr>\n",
              "        <tr>\n",
              "            <td>Alejandro Fernandez</td>\n",
              "            <td>1850</td>\n",
              "        </tr>\n",
              "        <tr>\n",
              "            <td>Saul Moreno Santos</td>\n",
              "            <td>1600</td>\n",
              "        </tr>\n",
              "    </tbody>\n",
              "</table>"
            ],
            "text/plain": [
              "[('Miguel Soto', 1900),\n",
              " ('Alejandro Fernandez', 1850),\n",
              " ('Saul Moreno Santos', 1600)]"
            ]
          },
          "metadata": {},
          "execution_count": 11
        }
      ]
    },
    {
      "cell_type": "code",
      "metadata": {
        "colab": {
          "base_uri": "https://localhost:8080/",
          "height": 182
        },
        "id": "VtemyAjxtLFf",
        "outputId": "258e7523-f05e-478a-a775-811a621ecc23"
      },
      "source": [
        "%sql select nombre,salario FROM empleado ORDER BY salario ASC LIMIT 5;"
      ],
      "execution_count": null,
      "outputs": [
        {
          "output_type": "stream",
          "name": "stdout",
          "text": [
            " * sqlite:///love4pets.db\n",
            "Done.\n"
          ]
        },
        {
          "output_type": "execute_result",
          "data": {
            "text/html": [
              "<table>\n",
              "    <thead>\n",
              "        <tr>\n",
              "            <th>nombre</th>\n",
              "            <th>salario</th>\n",
              "        </tr>\n",
              "    </thead>\n",
              "    <tbody>\n",
              "        <tr>\n",
              "            <td>Sergio Reyes Gallardo</td>\n",
              "            <td>1000</td>\n",
              "        </tr>\n",
              "        <tr>\n",
              "            <td>Nil Soler Diez</td>\n",
              "            <td>1100</td>\n",
              "        </tr>\n",
              "        <tr>\n",
              "            <td>Lucas Serrano Caballero</td>\n",
              "            <td>1200</td>\n",
              "        </tr>\n",
              "        <tr>\n",
              "            <td>Pablo Pons Sanz</td>\n",
              "            <td>1350</td>\n",
              "        </tr>\n",
              "        <tr>\n",
              "            <td>Guillermo Vidal Gomez</td>\n",
              "            <td>1400</td>\n",
              "        </tr>\n",
              "    </tbody>\n",
              "</table>"
            ],
            "text/plain": [
              "[('Sergio Reyes Gallardo', 1000),\n",
              " ('Nil Soler Diez', 1100),\n",
              " ('Lucas Serrano Caballero', 1200),\n",
              " ('Pablo Pons Sanz', 1350),\n",
              " ('Guillermo Vidal Gomez', 1400)]"
            ]
          },
          "metadata": {},
          "execution_count": 12
        }
      ]
    },
    {
      "cell_type": "markdown",
      "metadata": {
        "id": "KMDJ3EIvtLFf"
      },
      "source": [
        "### Filtro sobre operación de selección, DISTINCT\n",
        "------\n",
        "La Instrucción DISTINCT omite en el resultado los campos que son iguales.\n",
        "\n",
        "Veamos un ejemplos:"
      ]
    },
    {
      "cell_type": "code",
      "metadata": {
        "colab": {
          "base_uri": "https://localhost:8080/",
          "height": 267
        },
        "id": "Y7dcOSIttLFg",
        "outputId": "c799f446-3f40-40c6-e80a-95d69a4af4cc"
      },
      "source": [
        "%sql select DISTINCT salario FROM empleado ORDER BY salario DESC;"
      ],
      "execution_count": null,
      "outputs": [
        {
          "output_type": "stream",
          "name": "stdout",
          "text": [
            " * sqlite:///love4pets.db\n",
            "Done.\n"
          ]
        },
        {
          "output_type": "execute_result",
          "data": {
            "text/html": [
              "<table>\n",
              "    <thead>\n",
              "        <tr>\n",
              "            <th>salario</th>\n",
              "        </tr>\n",
              "    </thead>\n",
              "    <tbody>\n",
              "        <tr>\n",
              "            <td>1900</td>\n",
              "        </tr>\n",
              "        <tr>\n",
              "            <td>1850</td>\n",
              "        </tr>\n",
              "        <tr>\n",
              "            <td>1600</td>\n",
              "        </tr>\n",
              "        <tr>\n",
              "            <td>1500</td>\n",
              "        </tr>\n",
              "        <tr>\n",
              "            <td>1400</td>\n",
              "        </tr>\n",
              "        <tr>\n",
              "            <td>1350</td>\n",
              "        </tr>\n",
              "        <tr>\n",
              "            <td>1200</td>\n",
              "        </tr>\n",
              "        <tr>\n",
              "            <td>1100</td>\n",
              "        </tr>\n",
              "        <tr>\n",
              "            <td>1000</td>\n",
              "        </tr>\n",
              "    </tbody>\n",
              "</table>"
            ],
            "text/plain": [
              "[(1900,),\n",
              " (1850,),\n",
              " (1600,),\n",
              " (1500,),\n",
              " (1400,),\n",
              " (1350,),\n",
              " (1200,),\n",
              " (1100,),\n",
              " (1000,)]"
            ]
          },
          "metadata": {},
          "execution_count": 13
        }
      ]
    },
    {
      "cell_type": "markdown",
      "metadata": {
        "id": "K9k8TFKRtLFg"
      },
      "source": [
        "En el ejemplo anterior se muestran solamente los diferentes salarios, aún cuando 2 empleados tienen un sueldo de 1600 y otros 2 de 1500"
      ]
    },
    {
      "cell_type": "markdown",
      "metadata": {
        "id": "pS69RNRztLFh"
      },
      "source": [
        "### La Clausula **WHERE**:\n",
        "Se usa para indicar que se limita la selección a los campos que cumplan una determinada condición.\n",
        "\n",
        "```sql\n",
        "select campo1,campo2,...,campoN FROM Tabla WHERE condición;\n",
        "```\n",
        "\n",
        "#### Operadores usados en la clausula WHERE\n",
        "| Operador |  Descripción |\n",
        "|----------|--------------|\n",
        "| = |  igualdad |\n",
        "| <> |  Distinto uno de otro |\n",
        "| > |  Mayor que |\n",
        "| < |  Menor que |\n",
        "| =< |  Mayor o igual que |\n",
        "| <= |  Menor o igual que |\n",
        "| Between |  Entre un cierto rango |\n",
        "| LIKE |  Cumple una estructura dada |\n",
        "| IN |  Permite comparar con multiples valores |\n",
        "\n",
        "Veamos algunos ejemplos de la clausula WHERE:"
      ]
    },
    {
      "cell_type": "code",
      "metadata": {
        "colab": {
          "base_uri": "https://localhost:8080/"
        },
        "id": "OXaRk9GztLFh",
        "outputId": "7c3878fd-22f4-4452-9a08-9515b92b0761"
      },
      "source": [
        "%sql select nombre, salario FROM empleado WHERE salario > 1500;"
      ],
      "execution_count": null,
      "outputs": [
        {
          "output_type": "stream",
          "name": "stderr",
          "text": [
            "UsageError: Line magic function `%sql` not found.\n"
          ]
        }
      ]
    },
    {
      "cell_type": "code",
      "metadata": {
        "colab": {
          "base_uri": "https://localhost:8080/"
        },
        "id": "F7RSfm_vtLFh",
        "outputId": "6dc5310b-8a2f-4871-edfe-10d0ea3a2e48"
      },
      "source": [
        "%sql select nombre, salario FROM empleado WHERE salario = 1350;"
      ],
      "execution_count": null,
      "outputs": [
        {
          "output_type": "stream",
          "name": "stderr",
          "text": [
            "UsageError: Line magic function `%sql` not found.\n"
          ]
        }
      ]
    },
    {
      "cell_type": "code",
      "metadata": {
        "colab": {
          "base_uri": "https://localhost:8080/"
        },
        "id": "hCi-fSwftLFi",
        "outputId": "4ace4e2c-d813-4354-cbdc-795be6757ab9"
      },
      "source": [
        "%sql select nombre, salario FROM empleado WHERE ( salario >= 1400 AND salario <= 1600 );"
      ],
      "execution_count": null,
      "outputs": [
        {
          "output_type": "stream",
          "name": "stderr",
          "text": [
            "UsageError: Line magic function `%sql` not found.\n"
          ]
        }
      ]
    },
    {
      "cell_type": "markdown",
      "metadata": {
        "id": "d3xKFnhFtLFi"
      },
      "source": [
        "<div style=\"background-color: #81F781\">\n",
        " <h1> Ejercicio 2. </h1><br>\n",
        "    Con el propósito actualizar la información de los clientes se quiere contactar a aquellos clientes que no tienen asociada una persona de contacto, para esto se pide que muestre de la tabla \"cliente\" los campos \"nombre\" y \"telefono\" de los clientes que no tienen un contacto registrado.\n",
        " <br><br>\n",
        "</div>"
      ]
    },
    {
      "cell_type": "code",
      "metadata": {
        "id": "RrOQ13uhtLFj"
      },
      "source": [
        "%sql select * from cliente;"
      ],
      "execution_count": null,
      "outputs": []
    },
    {
      "cell_type": "markdown",
      "metadata": {
        "id": "h91t4pl8tLFj"
      },
      "source": [
        "### EL operador BETWEEN\n",
        "Esta última instrucción puede escribirse de otra forma usando el operador **BETWEEN**, este operador es usado cuando queremos indicar que deseamos recuperar los registros según un intervalo de valores dado sobre un campo."
      ]
    },
    {
      "cell_type": "code",
      "metadata": {
        "colab": {
          "base_uri": "https://localhost:8080/"
        },
        "id": "aA2R_EdWtLFj",
        "outputId": "18c5cd32-78ce-439a-ea57-bb381fdcceb3"
      },
      "source": [
        "%sql select nombre, salario FROM empleado WHERE salario Between 1400 AND 1600"
      ],
      "execution_count": null,
      "outputs": [
        {
          "output_type": "stream",
          "name": "stderr",
          "text": [
            "UsageError: Line magic function `%sql` not found.\n"
          ]
        }
      ]
    },
    {
      "cell_type": "markdown",
      "metadata": {
        "id": "52VqvMLQtLFk"
      },
      "source": [
        "### EL operador Like\n",
        "Este operador es usado cuando se filtra la consulta con algún modelo o patrón sobre una columna.\n",
        "Este operador se combina con simbolos \"%\" y \"_\":\n",
        "* % Representa cero o mas caracteres a ser reemplazados en el patron por otros.\n",
        "* _ Representa un único caracter.\n",
        "\n",
        "Veamos algúnos ejemplos:"
      ]
    },
    {
      "cell_type": "code",
      "metadata": {
        "id": "bxreVJCHtLFk",
        "colab": {
          "base_uri": "https://localhost:8080/"
        },
        "outputId": "863012f7-2083-4daf-a44a-887e66ba77f4"
      },
      "source": [
        "%sql select * FROM cliente WHERE nombre LIKE \"%Medina%\";"
      ],
      "execution_count": null,
      "outputs": [
        {
          "output_type": "stream",
          "name": "stderr",
          "text": [
            "UsageError: Line magic function `%sql` not found.\n"
          ]
        }
      ]
    },
    {
      "cell_type": "markdown",
      "metadata": {
        "id": "lScVn7r8tLFl"
      },
      "source": [
        "La instrucción anterior busca todos los clientes cuyo nombre contiene la secuencia de caracteres \"Medina\" en alguna posición."
      ]
    },
    {
      "cell_type": "code",
      "metadata": {
        "id": "R-ijSgnitLFl"
      },
      "source": [
        "%sql select * FROM cliente WHERE email LIKE \"%@gmail.com\";"
      ],
      "execution_count": null,
      "outputs": []
    },
    {
      "cell_type": "markdown",
      "metadata": {
        "id": "Bl9W1WBZtLFl"
      },
      "source": [
        "EL comando anterior busca los clientes que tienen un correo que termine en \"@gmail.com\".\n",
        "\n",
        "**Veamos a consultar todos los clientes cuyo número telefónico comience por \"780\"**"
      ]
    },
    {
      "cell_type": "code",
      "metadata": {
        "id": "qrdo2OmctLFl"
      },
      "source": [
        "%sql select * FROM cliente WHERE telefono LIKE \"780-%\";"
      ],
      "execution_count": null,
      "outputs": []
    },
    {
      "cell_type": "markdown",
      "metadata": {
        "id": "IB04DThItLFm"
      },
      "source": [
        "<div style=\"background-color: #81F781\">\n",
        " <h1> Ejercicio 3. </h1><br>\n",
        "   Un empleado de la empresa Love4Pets se dió cuenta que un cliente dejó por accidente su celular, el empleado recuerda que alguno de sus apellidos era \"Leon\".\n",
        "   \n",
        "   Se quiere que determinar a quien pertenece el celular extraviado, y en caso de ser posible avisar a su persona de contacto que el celular está a salvo y pueden pasar buscandolo en cualquier momento.\n",
        "   \n",
        "   Se sabe que la tabla **\"cliente\"** tiene un campo **\"nombre\"** el cual contiene nombres y apellidos, el campo **\"contacto\"** que tiene el nombre de la persona de contacto y el campo **\"telefono_contacto\"** que tiene el telefono de la persona de contacto.\n",
        "   \n",
        "   <br><br>\n",
        " \n",
        "</div>"
      ]
    },
    {
      "cell_type": "code",
      "metadata": {
        "id": "-TfmjGLHtLFm"
      },
      "source": [
        "%sql"
      ],
      "execution_count": null,
      "outputs": []
    },
    {
      "cell_type": "markdown",
      "metadata": {
        "id": "lCG1vkjVtLFm"
      },
      "source": [
        "### Operadores AND, OR, NOT\n",
        "Estos operadores son usados para filtrar resultados según mas de una condición. \n",
        "\n",
        "**Operador AND:** Se muestran los resultados que cumplen las condiciones separadas por el operador AND, es decir el resultado de la operación AND tiene valor TRUE\n",
        "\n",
        "Sintaxis del Operador AND\n",
        "```sql\n",
        "select campo FROM Tabla WHERE condicion1 AND condicion2;\n",
        "```\n",
        "\n",
        "**Operador OR:** Se muestran los resultados que cumplen alguna de las condiciones separadas por el operador OR, es decir el resultado de la operación OR tiene valor TRUE\n",
        "\n",
        "Sintaxis del Operador OR\n",
        "```sql\n",
        "select campo FROM Tabla WHERE condicion1 OR condicion2;\n",
        "```\n",
        "\n",
        "**Operador NOT:** Se muestran los resultados que NO cumplen con la condicion indicada.\n",
        "\n",
        "Sintaxis del Operador NOT\n",
        "```sql\n",
        "select campo FROM Tabla WHERE NOT condicion1;\n",
        "```\n"
      ]
    },
    {
      "cell_type": "code",
      "metadata": {
        "id": "8yuir9LItLFn"
      },
      "source": [
        "%sql select * FROM empleado WHERE ( salario >= 1500 AND departamento_id = 6 )"
      ],
      "execution_count": null,
      "outputs": []
    },
    {
      "cell_type": "markdown",
      "metadata": {
        "id": "MIXcCn3LtLFn"
      },
      "source": [
        "En el ejemplo anterior la consulta muestra los empleados que tienen un salario mayor o igual a 1500 y que trabajan en el departamento de informática el cual tiene código 6.\n",
        "\n",
        "Veamos como podemos usar **consultas anidadas** para buscar la misma consulta colocando el nombre del departamento en lugar del código."
      ]
    },
    {
      "cell_type": "code",
      "metadata": {
        "id": "9u9bCVfStLFn"
      },
      "source": [
        "%%sql \n",
        "select * FROM empleado\n",
        "WHERE \n",
        "( salario >= 1500 AND departamento_id = (select departamento_id FROM departamento WHERE nombre=\"informatica\" ) )  "
      ],
      "execution_count": null,
      "outputs": []
    },
    {
      "cell_type": "markdown",
      "metadata": {
        "id": "UG5pVMsrtLFo"
      },
      "source": [
        "Veamos un ejemplo donde consultamos las mascotas asociadas a una persona con nombre \"Arnau Medina Garcia\""
      ]
    },
    {
      "cell_type": "code",
      "metadata": {
        "id": "1NNPyK3FtLFo"
      },
      "source": [
        "%%sql \n",
        "select * FROM mascota WHERE  cliente_id=( select cliente_id FROM cliente WHERE nombre=\"Arnau Medina Garcia\" )"
      ],
      "execution_count": null,
      "outputs": []
    },
    {
      "cell_type": "markdown",
      "metadata": {
        "id": "zCJIlWuftLFo"
      },
      "source": [
        "Ejemplo con Operador **OR**"
      ]
    },
    {
      "cell_type": "code",
      "metadata": {
        "id": "9K7J4wlJtLFo"
      },
      "source": [
        "%%sql \n",
        "select nombre, departamento_id from empleado where (empleado.departamento_id = 1) OR (empleado.departamento_id = 3)"
      ],
      "execution_count": null,
      "outputs": []
    },
    {
      "cell_type": "markdown",
      "metadata": {
        "id": "foBTuv2wtLFp"
      },
      "source": [
        "En la consulta anterior se muestran los empleados que trabajan en el departamento de Finanzas o en el departamento de Recursos Humanos"
      ]
    },
    {
      "cell_type": "markdown",
      "metadata": {
        "id": "w3dS8GDltLFp"
      },
      "source": [
        "Ejemplo con el operador **NOT**\n",
        "\n",
        "Veamos el complemento de la consulta anterior."
      ]
    },
    {
      "cell_type": "code",
      "metadata": {
        "id": "GAlJXLUZtLFp",
        "outputId": "cb44860a-52a6-49bb-ffbb-75dd46c68d53"
      },
      "source": [
        "%%sql \n",
        "select nombre, departamento_id from empleado\n",
        "where\n",
        "NOT ( (empleado.departamento_id = 1) OR (empleado.departamento_id = 3) )"
      ],
      "execution_count": null,
      "outputs": [
        {
          "name": "stdout",
          "output_type": "stream",
          "text": [
            " * sqlite:///love4pets.db\n",
            "Done.\n"
          ]
        },
        {
          "data": {
            "text/html": [
              "<table>\n",
              "    <tr>\n",
              "        <th>nombre</th>\n",
              "        <th>departamento_id</th>\n",
              "    </tr>\n",
              "    <tr>\n",
              "        <td>Andres Riera Herrera</td>\n",
              "        <td>6</td>\n",
              "    </tr>\n",
              "    <tr>\n",
              "        <td>Lucas Serrano Caballero</td>\n",
              "        <td>2</td>\n",
              "    </tr>\n",
              "    <tr>\n",
              "        <td>Nil Soler Diez</td>\n",
              "        <td>5</td>\n",
              "    </tr>\n",
              "    <tr>\n",
              "        <td>Sergio Reyes Gallardo</td>\n",
              "        <td>5</td>\n",
              "    </tr>\n",
              "    <tr>\n",
              "        <td>Daniel Quintero Quintero</td>\n",
              "        <td>6</td>\n",
              "    </tr>\n",
              "    <tr>\n",
              "        <td>Miguel Soto</td>\n",
              "        <td>6</td>\n",
              "    </tr>\n",
              "    <tr>\n",
              "        <td>Alejandro Fernandez</td>\n",
              "        <td>6</td>\n",
              "    </tr>\n",
              "</table>"
            ],
            "text/plain": [
              "[('Andres Riera Herrera', 6),\n",
              " ('Lucas Serrano Caballero', 2),\n",
              " ('Nil Soler Diez', 5),\n",
              " ('Sergio Reyes Gallardo', 5),\n",
              " ('Daniel Quintero Quintero', 6),\n",
              " ('Miguel Soto', 6),\n",
              " ('Alejandro Fernandez', 6)]"
            ]
          },
          "execution_count": 21,
          "metadata": {},
          "output_type": "execute_result"
        }
      ]
    },
    {
      "cell_type": "markdown",
      "metadata": {
        "id": "XdXooJkatLFq"
      },
      "source": [
        "<div style=\"background-color: #81F781\">\n",
        " <h1> Ejercicio 4. </h1><br>\n",
        "      La empresa Love4Pets considera hacer un descuento sobre los productos que cuestan entre 10 y 20 euros, y complementos vitamínicos. \n",
        "      \n",
        "   Se requiere que liste las columnas \"nombre\", \"descripcion\", \"precio\" de productos a los que debe ser aplicado el descuento. ( asuma que los productos se encuentran en la tabla \"producto\" )\n",
        "   \n",
        "   Asuma que el producto vitaminico no lleva acentos, generalmente estos productos tienen la palabra vitamina en la **\"descripcion\"** pero podria ser alguna variante como vitaminico o comenzar por mayusculas, el departamento de informática recomendó usar la función Like para esta busqueda.\n",
        "   \n",
        "   <br><br>\n",
        " \n",
        "</div>"
      ]
    },
    {
      "cell_type": "code",
      "metadata": {
        "id": "f9HfNz2stLFq"
      },
      "source": [
        "%sql"
      ],
      "execution_count": null,
      "outputs": []
    },
    {
      "cell_type": "markdown",
      "metadata": {
        "id": "6-ug_8tVtLFq"
      },
      "source": [
        "### Funciones Max() y Min()\n",
        "Con frecuencia tenemos una lista de valores y queremos obtener el mayor o el menor, esto es lo que hacen las funciones Max y Min.\n",
        "\n",
        "Sintaxis de la función MIN\n",
        "```sql\n",
        "SELECT MIN(column_name)\n",
        "FROM table_name\n",
        "WHERE condition; \n",
        "```\n",
        "\n",
        "Sintaxis de la función MAX\n",
        "```sql\n",
        "SELECT MAX(column_name)\n",
        "FROM table_name\n",
        "WHERE condition; \n",
        "```\n",
        "Veamos un ejemplo:"
      ]
    },
    {
      "cell_type": "code",
      "metadata": {
        "id": "4bc6KPWWtLFr"
      },
      "source": [
        "%sql select MIN(precio) from producto;"
      ],
      "execution_count": null,
      "outputs": []
    },
    {
      "cell_type": "code",
      "metadata": {
        "id": "CvmDLBJ_tLFr"
      },
      "source": [
        "%sql select MAX(precio) from producto;"
      ],
      "execution_count": null,
      "outputs": []
    },
    {
      "cell_type": "markdown",
      "metadata": {
        "id": "Tqq3Y72rtLFr"
      },
      "source": [
        "<div style=\"background-color: #81F781\">\n",
        " <h1> Ejercicio 5. </h1><br>\n",
        "    La empresa Love4Pets esta considerando realizar un aumento.\n",
        "    \n",
        "   Se requiere que indique cual es el menor sueldo que está pagando la empresa.\n",
        " <br><br>\n",
        "</div>"
      ]
    },
    {
      "cell_type": "code",
      "metadata": {
        "id": "UFFgxmp3tLFs"
      },
      "source": [
        "%sql"
      ],
      "execution_count": null,
      "outputs": []
    },
    {
      "cell_type": "markdown",
      "metadata": {
        "id": "Kpzp8h4mtLFs"
      },
      "source": [
        "### Funciones COUNT(), AVG(), SUM()\n",
        "Nos permite contar la cantidad de resultados que arroja una consulta, obtener un valor promedio, o sumar los valores de una consulta.\n",
        "\n",
        "**Función count** Retorna la cantidad de filas que arroja una consulta.\n",
        "\n",
        "Sintaxis de la función COUNT\n",
        "```sql\n",
        "SELECT COUNT(column_name)\n",
        "FROM table_name\n",
        "WHERE condition; \n",
        "```\n",
        "\n",
        "**Función AVG** Retorna la el promedio de los valores de las filas que arroja una consulta.\n",
        "\n",
        "Sintaxis de la función COUNT\n",
        "```sql\n",
        "SELECT AVG(column_name)\n",
        "FROM table_name\n",
        "WHERE condition; \n",
        "```\n",
        "\n",
        "**Función SUM** Retorna la el promedio de los valores de las filas que arroja una consulta.\n",
        "\n",
        "Sintaxis de la función COUNT\n",
        "```sql\n",
        "SELECT SUM(column_name)\n",
        "FROM table_name\n",
        "WHERE condition; \n",
        "```"
      ]
    },
    {
      "cell_type": "code",
      "metadata": {
        "id": "O5CNlJd_tLFs",
        "outputId": "18da13b9-2240-4fb2-ce5e-e4b5d978c9c8"
      },
      "source": [
        "%sql select COUNT(salario) from empleado;"
      ],
      "execution_count": null,
      "outputs": [
        {
          "name": "stdout",
          "output_type": "stream",
          "text": [
            " * sqlite:///love4pets.db\n",
            "Done.\n"
          ]
        },
        {
          "data": {
            "text/html": [
              "<table>\n",
              "    <tr>\n",
              "        <th>COUNT(salario)</th>\n",
              "    </tr>\n",
              "    <tr>\n",
              "        <td>12</td>\n",
              "    </tr>\n",
              "</table>"
            ],
            "text/plain": [
              "[(12,)]"
            ]
          },
          "execution_count": 22,
          "metadata": {},
          "output_type": "execute_result"
        }
      ]
    },
    {
      "cell_type": "code",
      "metadata": {
        "id": "AII8Op2QtLFt"
      },
      "source": [
        "%sql select AVG(salario) from empleado;"
      ],
      "execution_count": null,
      "outputs": []
    },
    {
      "cell_type": "code",
      "metadata": {
        "id": "oGetsNz4tLFt"
      },
      "source": [
        "%sql select SUM(salario) from empleado;"
      ],
      "execution_count": null,
      "outputs": []
    },
    {
      "cell_type": "markdown",
      "metadata": {
        "id": "AxKgtd2ktLFt"
      },
      "source": [
        "<div style=\"background-color: #81F781\">\n",
        " <h1> Ejercicio 6. </h1><br>\n",
        "    La empresa Love4Pets continúa estudiando un ajuste en los salarios de los empleados, por lo que se quiere conocer el presupuesto total requerido para el pago de los salarios.\n",
        " <br><br>"
      ]
    },
    {
      "cell_type": "code",
      "metadata": {
        "id": "OLPqPFZitLFt"
      },
      "source": [
        "%sql"
      ],
      "execution_count": null,
      "outputs": []
    },
    {
      "cell_type": "markdown",
      "metadata": {
        "id": "OTflUP2ztLFu"
      },
      "source": [
        "### El Operador IN\n",
        "Permite especificar multiples valores a la clausula WHERE\n",
        "\n",
        "Sintaxis del operador IN\n",
        "```sql\n",
        "SELECT column_name(s)\n",
        "FROM table_name\n",
        "WHERE column_name IN (value1, value2, ...); \n",
        "```\n",
        "Veamos un ejemplo"
      ]
    },
    {
      "cell_type": "code",
      "metadata": {
        "id": "w7on-GyYtLFu"
      },
      "source": [
        "%sql select nombre from cliente where ciudad IN (\"Madrid\",\"Toledo\");"
      ],
      "execution_count": null,
      "outputs": []
    },
    {
      "cell_type": "markdown",
      "metadata": {
        "id": "4J1Xa9vqtLFu"
      },
      "source": [
        "Hasta ahora hemos realizado consultas muy sencillas casi todas sobre una sola tabla, sin aprovechar las relaciones que existen entre las tablas.\n",
        "\n",
        "Algunas de las tablas en Love4Pets están relacionadas  por medio de claves foraneas, por ejemplo la tabla empleado tiene un campo departamento_id que almacena el código del departamento donde trabaja un empleado, por medio de está relación podemos consultar también el nombre del departamento, esta consulta puede hacerse haciendo consultas anidadas, pero también usando la clausula **JOIN**\n",
        "\n",
        "### Clausula JOIN\n",
        "La clausula JOIN es usada para combinar columnas de una o mas tablas por medio de campos que relacionan estas tablas.\n",
        "\n",
        "Existen diferentes tipos de JOIN.  \n",
        "#### **Inner JOIN**:\n",
        "Retorna los valores cumplen la relación entre ambas tablas, es decir las filas de una tabla que estan relacionadas con filas de otra tabla por medio de claves foraneas. El INNER JOIN también es llamado simplemente JOIN.\n",
        "![Texto alternativo](https://raw.githubusercontent.com/dasesu/practicasql/master/imagenes/inner%20join.png)\n",
        "\n",
        "Sintaxis del Inner Join\n",
        "\n",
        "```sql\n",
        "select campo1, campo2, campoN FROM tabla1 INNER JOIN tabla2 ON tabla1.campo = tabla2.campo;\n",
        "```\n",
        "\n",
        "Veamos un ejemplo:  \n",
        "Primero veamos la siguiente consulta\n"
      ]
    },
    {
      "cell_type": "code",
      "metadata": {
        "id": "8sBnnozWtLFv"
      },
      "source": [
        "%%sql\n",
        "select empleado.nombre, departamento.nombre from empleado, departamento\n",
        "WHERE\n",
        "empleado.departamento_id = departamento.departamento_id;"
      ],
      "execution_count": null,
      "outputs": []
    },
    {
      "cell_type": "markdown",
      "metadata": {
        "id": "C8Ku6pUetLFv"
      },
      "source": [
        "Se muestran todos los empleados que trabajan en algun departamento, en esta consulta se excluyen empleados que no trabajan en ningun departamento y departamentos que no tienen ningun empleado.\n",
        "\n",
        "Veamos ahora la siguiente consulta"
      ]
    },
    {
      "cell_type": "code",
      "metadata": {
        "id": "U2_Y43_TtLFv"
      },
      "source": [
        "%%sql\n",
        "select empleado.nombre, departamento.nombre from empleado\n",
        "INNER JOIN\n",
        "departamento ON empleado.departamento_id = departamento.departamento_id;"
      ],
      "execution_count": null,
      "outputs": []
    },
    {
      "cell_type": "markdown",
      "metadata": {
        "id": "ukW2KWEJtLFv"
      },
      "source": [
        "Esta instrucción realiza la misma consulta que el comando anterior, es decir muestra los empleados que trabajan en algun departamento"
      ]
    },
    {
      "cell_type": "markdown",
      "metadata": {
        "id": "hlHm_hm_tLFw"
      },
      "source": [
        "#### **Left JOIN**:\n",
        "Retorna los registros de la tabla \"izquierda\" o la primera tabla, y los registros que coinciden con la segunda tabla, excluyendo los registros que se encuentren en la segunda tabla pero que no hagan match con la primera.\n",
        "![Texto alternativo](https://raw.githubusercontent.com/dasesu/practicasql/master/imagenes/left%20join.png)\n",
        "\n",
        "Sintaxis del LEFT JOIN\n",
        "```sql\n",
        "select campo1, campo2, campoN FROM tabla1 LEFT JOIN tabla2 ON tabla1.campo = tabla2.campo;\n",
        "```\n",
        "\n",
        "Veamos un ejemplo:  "
      ]
    },
    {
      "cell_type": "code",
      "metadata": {
        "id": "wrWeTkoctLFw",
        "outputId": "e79caf0b-9cba-4976-c5d0-9e67f588c198"
      },
      "source": [
        "%%sql\n",
        "select empleado.nombre, departamento.nombre from empleado\n",
        "LEFT JOIN\n",
        "departamento ON empleado.departamento_id = departamento.departamento_id;"
      ],
      "execution_count": null,
      "outputs": [
        {
          "name": "stdout",
          "output_type": "stream",
          "text": [
            " * sqlite:///love4pets.db\n",
            "Done.\n"
          ]
        },
        {
          "data": {
            "text/html": [
              "<table>\n",
              "    <tr>\n",
              "        <th>nombre</th>\n",
              "        <th>nombre_1</th>\n",
              "    </tr>\n",
              "    <tr>\n",
              "        <td>Andres Riera Herrera</td>\n",
              "        <td>informatica</td>\n",
              "    </tr>\n",
              "    <tr>\n",
              "        <td>Lucas Serrano Caballero</td>\n",
              "        <td>ventas</td>\n",
              "    </tr>\n",
              "    <tr>\n",
              "        <td>Pablo Pons Sanz</td>\n",
              "        <td>finanzas</td>\n",
              "    </tr>\n",
              "    <tr>\n",
              "        <td>Saul Moreno Santos</td>\n",
              "        <td>finanzas</td>\n",
              "    </tr>\n",
              "    <tr>\n",
              "        <td>Nil Soler Diez</td>\n",
              "        <td>veterinario</td>\n",
              "    </tr>\n",
              "    <tr>\n",
              "        <td>Sergio Reyes Gallardo</td>\n",
              "        <td>veterinario</td>\n",
              "    </tr>\n",
              "    <tr>\n",
              "        <td>Isaac Jimenez Ortiz</td>\n",
              "        <td>recursos humanos</td>\n",
              "    </tr>\n",
              "    <tr>\n",
              "        <td>Guillermo Vidal Gomez</td>\n",
              "        <td>recursos humanos</td>\n",
              "    </tr>\n",
              "    <tr>\n",
              "        <td>Daniel Quintero Quintero</td>\n",
              "        <td>informatica</td>\n",
              "    </tr>\n",
              "    <tr>\n",
              "        <td>Juan Manuel Olivares</td>\n",
              "        <td>None</td>\n",
              "    </tr>\n",
              "    <tr>\n",
              "        <td>Miguel Soto</td>\n",
              "        <td>informatica</td>\n",
              "    </tr>\n",
              "    <tr>\n",
              "        <td>Alejandro Fernandez</td>\n",
              "        <td>informatica</td>\n",
              "    </tr>\n",
              "</table>"
            ],
            "text/plain": [
              "[('Andres Riera Herrera', 'informatica'),\n",
              " ('Lucas Serrano Caballero', 'ventas'),\n",
              " ('Pablo Pons Sanz', 'finanzas'),\n",
              " ('Saul Moreno Santos', 'finanzas'),\n",
              " ('Nil Soler Diez', 'veterinario'),\n",
              " ('Sergio Reyes Gallardo', 'veterinario'),\n",
              " ('Isaac Jimenez Ortiz', 'recursos humanos'),\n",
              " ('Guillermo Vidal Gomez', 'recursos humanos'),\n",
              " ('Daniel Quintero Quintero', 'informatica'),\n",
              " ('Juan Manuel Olivares', None),\n",
              " ('Miguel Soto', 'informatica'),\n",
              " ('Alejandro Fernandez', 'informatica')]"
            ]
          },
          "execution_count": 23,
          "metadata": {},
          "output_type": "execute_result"
        }
      ]
    },
    {
      "cell_type": "markdown",
      "metadata": {
        "id": "SZcHxq9rtLFw"
      },
      "source": [
        "En el resultado anterior observe que el empleado \"Juan Manuel Olivares\" no está asociado a ningun departamento, sin embargo este es mostrado porque forma parte de la tabla1, pero no en la tabla2\n"
      ]
    },
    {
      "cell_type": "markdown",
      "metadata": {
        "id": "c2A9EFM9tLFw"
      },
      "source": [
        "#### **Right JOIN**:\n",
        "Retorna los registros de la tabla \"derecha\" o la segunda tabla, y los registros que coinciden con la primera tabla, excluyendo los registros que se encuentren en la primera tabla pero que no hagan match con la segunda.\n",
        "\n",
        "![Texto alternativo](https://raw.githubusercontent.com/dasesu/practicasql/master/imagenes/right%20join.png)\n",
        "\n",
        "Sintaxis del RIGHT JOIN\n",
        "```sql\n",
        "select campo1, campo2, campoN FROM tabla1 RIGHT JOIN tabla2 ON tabla1.campo = tabla2.campo;\n",
        "```\n",
        "\n",
        "**Esta instrucción no es reconocida por Sqlite3, por lo que al tratar de ejecutar esta sentencia se obtendrá un error.**\n",
        "\n",
        "Sin embargo esta instrucción puede construirse usando un LEFT JOIN invirtiendo el orden de las tablas.\n",
        "\n",
        "Veamos un ejemplo. ( El siguiente es un error provocado de forma intencional )"
      ]
    },
    {
      "cell_type": "code",
      "metadata": {
        "id": "37BAx2-ftLFx"
      },
      "source": [
        "%%sql\n",
        "select empleado.nombre, departamento.nombre from empleado\n",
        "RIGHT JOIN\n",
        "departamento ON empleado.departamento_id = departamento.departamento_id;"
      ],
      "execution_count": null,
      "outputs": []
    },
    {
      "cell_type": "markdown",
      "metadata": {
        "id": "eE9MrEd4tLFx"
      },
      "source": [
        "El siguiente código arroja el mismo resultado que debería arrojar el RIGHT JOIN, haciendo uso del LEFT JOIN, invirtiendo las la posición de las tablas"
      ]
    },
    {
      "cell_type": "code",
      "metadata": {
        "id": "MW2XaLYutLFx"
      },
      "source": [
        "%%sql\n",
        "select departamento.nombre, empleado.nombre from departamento\n",
        "LEFT JOIN\n",
        "empleado ON empleado.departamento_id = departamento.departamento_id;"
      ],
      "execution_count": null,
      "outputs": []
    },
    {
      "cell_type": "markdown",
      "metadata": {
        "id": "7FCwr7R4tLFx"
      },
      "source": [
        "<div style=\"background-color: #81F781\">\n",
        " <h1> Ejercicio 7. </h1><br>\n",
        "   Considerando la tabla \"cliente\" y la tabla \"mascota\" las cuales tienen una relación uno a muchos, como se muestra a continuación.\n",
        "   \n",
        "   ![relacionclientemascota.png](attachment:relacionclientemascota.png)\n",
        "    \n",
        " Indique los clientes que no tienen mascota registrada.\n",
        " <br><br>\n",
        "</div>"
      ]
    },
    {
      "cell_type": "code",
      "metadata": {
        "id": "ve3sIEDXtLFy"
      },
      "source": [
        "%%sql"
      ],
      "execution_count": null,
      "outputs": []
    },
    {
      "cell_type": "markdown",
      "metadata": {
        "id": "ndKMsMIptLFy"
      },
      "source": [
        "### Operador UNION\n",
        "Es usado para combinar resultados de varias consultas en una sola vista.\n",
        "* Cada Instrucción SELECT involucrada en la operación UNION tiene que tener la misma cantidad de columnas.\n",
        "* Las columnas ademas tienen que tener los mismos tipos de datos.\n",
        "\n",
        "**Sintaxis de la Operación UNION**\n",
        "```sql\n",
        "SELECT column_name(s) FROM table1\n",
        "UNION\n",
        "SELECT column_name(s) FROM table2; \n",
        "```"
      ]
    },
    {
      "cell_type": "code",
      "metadata": {
        "id": "GGVoTZEbtLFy"
      },
      "source": [
        "%%sql\n",
        "select nombre,email,telefono from empleado\n",
        "UNION\n",
        "select nombre,email,telefono from cliente"
      ],
      "execution_count": null,
      "outputs": []
    },
    {
      "cell_type": "markdown",
      "metadata": {
        "id": "bypy90k9tLFy"
      },
      "source": [
        "### La Instrucción GROUP BY\n",
        "Permite agrupar valores por un valor común a ellos\n",
        "\n",
        "Sintaxis de la instrucción GROUP BY\n",
        "```sql\n",
        "SELECT column_name(s)\n",
        "FROM table_name\n",
        "WHERE condition\n",
        "GROUP BY column_name(s)\n",
        "```\n",
        "\n",
        "Veamos un ejemplo contamos la cantidad de clientes que habitan en cada ciudad."
      ]
    },
    {
      "cell_type": "code",
      "metadata": {
        "id": "D2mLJs6ttLFz"
      },
      "source": [
        "%%sql\n",
        "select COUNT(nombre),ciudad from cliente\n",
        "GROUP BY ciudad"
      ],
      "execution_count": null,
      "outputs": []
    },
    {
      "cell_type": "markdown",
      "metadata": {
        "id": "GWDog687tLFz"
      },
      "source": [
        "<div style=\"background-color: #81F781\">\n",
        " <h1> Ejercicio 8. </h1><br>\n",
        " No todas las personas tienen la misma cantidad de mascotas. Se requiere que usted indique el cliente y cantidad de mascotas que tiene cada cliente que tenga mascotas.\n",
        " <br><br>\n",
        "</div>"
      ]
    },
    {
      "cell_type": "code",
      "metadata": {
        "id": "1-u4kNEEtLFz"
      },
      "source": [
        "%%sql"
      ],
      "execution_count": null,
      "outputs": []
    },
    {
      "cell_type": "markdown",
      "metadata": {
        "id": "weyVZbuItLFz"
      },
      "source": [
        "### La Instrucción HAVING\n",
        "Permite filtrar una busqueda donde se aplica una función de agregación sobre la condición.\n",
        "\n",
        "Sintaxis de la instrucción GROUP BY\n",
        "```sql\n",
        "SELECT column_name(s)\n",
        "FROM table_name\n",
        "WHERE condition\n",
        "HAVING column_name(s)\n",
        "```\n",
        "\n",
        "Tomando el mismo ejemplo anterior queremos mostrar las ciudades que tengan mas de 5 clientes."
      ]
    },
    {
      "cell_type": "code",
      "metadata": {
        "id": "AZ3T35ZetLF0"
      },
      "source": [
        "%%sql\n",
        "select COUNT(nombre),ciudad from cliente\n",
        "GROUP BY ciudad HAVING COUNT(nombre) > 5;"
      ],
      "execution_count": null,
      "outputs": []
    },
    {
      "cell_type": "markdown",
      "metadata": {
        "id": "fReh5xfUtLF0"
      },
      "source": [
        "<div style=\"background-color: #81F781\">\n",
        " <h1> Ejercicio 9. </h1><br>\n",
        " Se requiere que usted indique los clientes que tienen mas de una mascota.\n",
        " <br><br>\n",
        "</div>"
      ]
    },
    {
      "cell_type": "code",
      "metadata": {
        "id": "E7WYIw9stLF0"
      },
      "source": [
        "%%sql"
      ],
      "execution_count": null,
      "outputs": []
    },
    {
      "cell_type": "markdown",
      "metadata": {
        "id": "wXSNx7pJtLF0"
      },
      "source": [
        "### La Instrucción Insert\n",
        "La instrucción insert permite agregar nuevos valores a las tablas\n",
        "\n",
        "```sql\n",
        "INSERT INTO table_name (columna1, columna2, columna3, ...)\n",
        "VALUES (valor1, valor2, valor3, ...); \n",
        "```\n",
        "\n",
        "donde el valor1 es insertado en la columna1, el valor2 en la columna2 y asi sucesivamente."
      ]
    },
    {
      "cell_type": "code",
      "metadata": {
        "id": "5RLlGlp7tLF1"
      },
      "source": [
        "%sql insert into departamento( departamento_id, nombre) values(8,\"cosmetica\");"
      ],
      "execution_count": null,
      "outputs": []
    },
    {
      "cell_type": "markdown",
      "metadata": {
        "id": "KQTWOuittLF1"
      },
      "source": [
        "### La Instrucción DELETE\n",
        "La instrucción DELETE permite ELIMINAR filas que cumplan con una determinada condición\n",
        "\n",
        "```sql\n",
        "DELETE FROM table_name\n",
        "WHERE condition;\n",
        "```\n"
      ]
    },
    {
      "cell_type": "code",
      "metadata": {
        "id": "i8ZSpgqJtLF1"
      },
      "source": [
        "%sql delete from departamento where departamento_id=8;"
      ],
      "execution_count": null,
      "outputs": []
    }
  ]
}